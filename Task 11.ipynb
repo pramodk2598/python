{
 "cells": [
  {
   "cell_type": "markdown",
   "id": "c4d18117",
   "metadata": {},
   "source": [
    "## Task 11.1"
   ]
  },
  {
   "cell_type": "code",
   "execution_count": 2,
   "id": "ec7d2329",
   "metadata": {},
   "outputs": [],
   "source": [
    "# Explain return keyword with example . "
   ]
  },
  {
   "cell_type": "markdown",
   "id": "963eff99",
   "metadata": {},
   "source": [
    "# The return keyword is to exit a function and return a value."
   ]
  },
  {
   "cell_type": "code",
   "execution_count": 6,
   "id": "3781d6c1",
   "metadata": {},
   "outputs": [
    {
     "name": "stdout",
     "output_type": "stream",
     "text": [
      "6\n"
     ]
    }
   ],
   "source": [
    "def myfunction():\n",
    "    return 3+3\n",
    "print(myfunction())"
   ]
  },
  {
   "cell_type": "code",
   "execution_count": 8,
   "id": "835eaff8",
   "metadata": {},
   "outputs": [
    {
     "name": "stdout",
     "output_type": "stream",
     "text": [
      "itz , param\n",
      "10\n"
     ]
    }
   ],
   "source": [
    "def myfunction():\n",
    "    return 5+5\n",
    "print(\"itz , param\")\n",
    "print(myfunction())"
   ]
  },
  {
   "cell_type": "markdown",
   "id": "144d6fb5",
   "metadata": {},
   "source": [
    "## Task 11.2"
   ]
  },
  {
   "cell_type": "code",
   "execution_count": 2,
   "id": "4b0c88cb",
   "metadata": {},
   "outputs": [
    {
     "name": "stdout",
     "output_type": "stream",
     "text": [
      "enter the num 1:  50\n",
      "enter the num 2:  150\n",
      "Enter the choice\n",
      "1) + \n",
      "2) - \n",
      "3)* \n",
      "4) / \n",
      "Enter operator to use1\n",
      "50 + 150 = 200\n"
     ]
    }
   ],
   "source": [
    "num1 = int(input(\"enter the num 1:  \"))\n",
    "num2 = int(input(\"enter the num 2:  \"))\n",
    "def add(num1,num2):\n",
    "    return num1+num2\n",
    "def sub(num1,num2):\n",
    "    return num1-num2\n",
    "def multiply(num1,num2):\n",
    "    return num1**num2\n",
    "def devide(num,num2):\n",
    "    return num1/num2\n",
    "print(\"Enter the choice\")\n",
    "print(\"1) + \")\n",
    "print(\"2) - \")\n",
    "print(\"3)* \")\n",
    "print(\"4) / \")\n",
    "choice = input(\"Enter operator to use\")\n",
    "if choice == \"1\":\n",
    "    print(num1,\"+\",num2,\"=\",add(num1,num2))\n",
    "elif choice == \"2\":\n",
    "    print(num1,\"-\",num2,\"=\",sub(num1,num2))\n",
    "elif choice == \"3\":\n",
    "    print(num1,\"*\",num2,\"=\",multiply(num1,num2))\n",
    "elif choice == \"4\":\n",
    "    print(num1,\"/\",num2,\"=\",devide(num1,num2))"
   ]
  },
  {
   "cell_type": "code",
   "execution_count": null,
   "id": "ce2f70e0",
   "metadata": {},
   "outputs": [],
   "source": []
  }
 ],
 "metadata": {
  "kernelspec": {
   "display_name": "Python 3",
   "language": "python",
   "name": "python3"
  },
  "language_info": {
   "codemirror_mode": {
    "name": "ipython",
    "version": 3
   },
   "file_extension": ".py",
   "mimetype": "text/x-python",
   "name": "python",
   "nbconvert_exporter": "python",
   "pygments_lexer": "ipython3",
   "version": "3.8.8"
  }
 },
 "nbformat": 4,
 "nbformat_minor": 5
}

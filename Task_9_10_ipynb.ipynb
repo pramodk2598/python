{
  "cells": [
    {
      "cell_type": "markdown",
      "metadata": {
        "id": "m8T4fAqzWNCf"
      },
      "source": [
        "#Task 9"
      ]
    },
    {
      "cell_type": "code",
      "execution_count": null,
      "metadata": {
        "id": "aMeypM1FWSd4"
      },
      "outputs": [],
      "source": [
        "# Ask 2 numbers from users and store it in num1 and num2."
      ]
    },
    {
      "cell_type": "code",
      "execution_count": null,
      "metadata": {
        "colab": {
          "base_uri": "https://localhost:8080/"
        },
        "id": "jzGnhlzNXKIm",
        "outputId": "8471d03b-fd0d-4e60-8cac-2bb7ac6cf5af"
      },
      "outputs": [
        {
          "name": "stdout",
          "output_type": "stream",
          "text": [
            "57.900000000000006\n"
          ]
        }
      ],
      "source": [
        "num1 = 23.34\n",
        "num2 = 34.56\n",
        "sum = num1 + num2\n",
        "print(sum)"
      ]
    },
    {
      "cell_type": "code",
      "execution_count": null,
      "metadata": {
        "id": "US1zFftc-Nlp"
      },
      "outputs": [],
      "source": [
        "# Ask user to press 1 for addition 2 for substration 3 for multiplication and 4 for division.\n",
        "# Based on number given by user do the math operation."
      ]
    },
    {
      "cell_type": "code",
      "execution_count": null,
      "metadata": {
        "colab": {
          "base_uri": "https://localhost:8080/"
        },
        "id": "lNss3lvsCiR6",
        "outputId": "55dee96a-a5e6-4c41-9d23-a1badd6c708a"
      },
      "outputs": [
        {
          "output_type": "stream",
          "name": "stdout",
          "text": [
            "choose operator\n",
            "+\n",
            "-\n",
            "*\n",
            "/\n",
            "enter operator to use+\n",
            "enter first number100\n",
            "enter second number50\n",
            "100 + 50 = 10050\n"
          ]
        }
      ],
      "source": [
        "def add(a,b):\n",
        " return a+b\n",
        "def substract(a,b):\n",
        " return a-b\n",
        "def multiply(a,b):\n",
        " return a*b\n",
        "def division(a,b):\n",
        " return a/b\n",
        "print(\"choose operator\")\n",
        "print(\"+\")\n",
        "print(\"-\")\n",
        "print(\"*\")\n",
        "print(\"/\")\n",
        "choice = input(\"enter operator to use\")\n",
        "a = (input(\"enter first number\"))\n",
        "b = (input(\"enter second number\"))\n",
        "if choice == \"+\":\n",
        " print(a,\"+\",b,\"=\",add(a,b))\n",
        "elif choice == \"-\":\n",
        " print(a,\"-\",b,\"=\",substract(a,b))\n",
        "elif choice == \"*\":\n",
        " print(a,\"*\",b,\"=\",multiply(a,b))\n",
        "elif choice == \"/\":\n",
        "  print(a,\"/\",b,\"=\",division(a,b))\n",
        "else:\n",
        " print(\"wrong choice\")\n",
        "\n",
        "      \n"
      ]
    },
    {
      "cell_type": "markdown",
      "source": [
        "##Task 10.1\n"
      ],
      "metadata": {
        "id": "mX-VYSs9ZyoO"
      }
    },
    {
      "cell_type": "code",
      "execution_count": null,
      "metadata": {
        "id": "kFiYdPdfdN2U"
      },
      "outputs": [],
      "source": [
        "#what is the usage of continue with an example."
      ]
    },
    {
      "cell_type": "markdown",
      "source": [
        "Usage of continue : The continue keyword is used to end the current iteration in a for loop or while loop ,and continues to the next iteration .in the below example when i is 5 it will skip it and continue with next iteration."
      ],
      "metadata": {
        "id": "kMa2fKIcbAQr"
      }
    },
    {
      "cell_type": "code",
      "source": [
        "for i in range(9):\n",
        "  if i == 3:\n",
        "    continue\n",
        "  print(i)\n",
        "    "
      ],
      "metadata": {
        "colab": {
          "base_uri": "https://localhost:8080/"
        },
        "id": "mhNxq3-dbrO7",
        "outputId": "f678aab6-d3c7-4a19-e76c-7b4b61c1a01c"
      },
      "execution_count": null,
      "outputs": [
        {
          "output_type": "stream",
          "name": "stdout",
          "text": [
            "0\n",
            "1\n",
            "2\n",
            "4\n",
            "5\n",
            "6\n",
            "7\n",
            "8\n"
          ]
        }
      ]
    },
    {
      "cell_type": "markdown",
      "source": [
        "###Task 10.2"
      ],
      "metadata": {
        "id": "aM-PibJhe8Ac"
      }
    },
    {
      "cell_type": "code",
      "source": [
        "# what is pass keyword, with example."
      ],
      "metadata": {
        "id": "3fno9cjUeQ4z"
      },
      "execution_count": null,
      "outputs": []
    },
    {
      "cell_type": "markdown",
      "source": [
        "The pass statement is used as a placeholder for future code.When the pass statement is executed ,nothing happens,but you avoid getting an error when empty code is not allowed.Empty code is not allowed in loops,functions definitions,class definitions,or in if statements."
      ],
      "metadata": {
        "id": "uYkpgw_ift7e"
      }
    },
    {
      "cell_type": "code",
      "source": [
        "for x in[0,1,2]:\n",
        "  pass"
      ],
      "metadata": {
        "id": "z0m6I43GgbYU"
      },
      "execution_count": null,
      "outputs": []
    },
    {
      "cell_type": "code",
      "source": [
        ""
      ],
      "metadata": {
        "id": "DuFpPOMxhD1d"
      },
      "execution_count": null,
      "outputs": []
    },
    {
      "cell_type": "markdown",
      "source": [
        "###Task 10"
      ],
      "metadata": {
        "id": "TnEF6rp9hnCE"
      }
    },
    {
      "cell_type": "code",
      "source": [
        "# using while loop print number from 10 to 1"
      ],
      "metadata": {
        "id": "JOc0cW9NhqB_"
      },
      "execution_count": null,
      "outputs": []
    },
    {
      "cell_type": "code",
      "source": [
        "a = 10\n",
        "while a > 0:\n",
        "  print(a)\n",
        "  a = a-1"
      ],
      "metadata": {
        "colab": {
          "base_uri": "https://localhost:8080/"
        },
        "id": "E6m3IYqshyKt",
        "outputId": "3a312183-fefc-4969-f5bc-9a93b6ec8c3f"
      },
      "execution_count": null,
      "outputs": [
        {
          "output_type": "stream",
          "name": "stdout",
          "text": [
            "10\n",
            "9\n",
            "8\n",
            "7\n",
            "6\n",
            "5\n",
            "4\n",
            "3\n",
            "2\n",
            "1\n"
          ]
        }
      ]
    },
    {
      "cell_type": "code",
      "source": [
        "# using for loop over tuples,sets and dictionaries"
      ],
      "metadata": {
        "id": "Dwffy00eiEZP"
      },
      "execution_count": null,
      "outputs": []
    },
    {
      "cell_type": "code",
      "source": [
        "# tuples"
      ],
      "metadata": {
        "id": "YLUjAAX9iaA7"
      },
      "execution_count": null,
      "outputs": []
    },
    {
      "cell_type": "code",
      "source": [
        "tup1 = (1,2,3,\"benz\",\"bently\")\n",
        "for x in tup1:\n",
        "  print(x)"
      ],
      "metadata": {
        "colab": {
          "base_uri": "https://localhost:8080/"
        },
        "id": "EIH7fdzCifMP",
        "outputId": "eb9c2d11-9b22-49c9-dced-1a064ba2f20f"
      },
      "execution_count": null,
      "outputs": [
        {
          "output_type": "stream",
          "name": "stdout",
          "text": [
            "1\n",
            "2\n",
            "3\n",
            "benz\n",
            "bently\n"
          ]
        }
      ]
    },
    {
      "cell_type": "code",
      "source": [
        "tup2 = (\"harliedevidson\")\n",
        "for a in tup2:\n",
        "  print(a)"
      ],
      "metadata": {
        "colab": {
          "base_uri": "https://localhost:8080/"
        },
        "id": "V5oCeTTejiNe",
        "outputId": "6e02bb71-bdd1-4670-8ec7-f3e7b965610c"
      },
      "execution_count": null,
      "outputs": [
        {
          "output_type": "stream",
          "name": "stdout",
          "text": [
            "h\n",
            "a\n",
            "r\n",
            "l\n",
            "i\n",
            "e\n",
            "d\n",
            "e\n",
            "v\n",
            "i\n",
            "d\n",
            "s\n",
            "o\n",
            "n\n"
          ]
        }
      ]
    },
    {
      "cell_type": "code",
      "source": [
        "#sets"
      ],
      "metadata": {
        "id": "_AbD7j8Bj4lN"
      },
      "execution_count": null,
      "outputs": []
    },
    {
      "cell_type": "code",
      "source": [
        "set1 = {1,2,3,4,5}\n",
        "for p1 in set1:\n",
        "  print(p1)\n"
      ],
      "metadata": {
        "colab": {
          "base_uri": "https://localhost:8080/"
        },
        "id": "_da_teuyo7C4",
        "outputId": "48891a39-2936-4bb6-f30f-ecb787318371"
      },
      "execution_count": null,
      "outputs": [
        {
          "output_type": "stream",
          "name": "stdout",
          "text": [
            "1\n",
            "2\n",
            "3\n",
            "4\n",
            "5\n"
          ]
        }
      ]
    },
    {
      "cell_type": "code",
      "source": [
        "set2 = {\"mustang\"}\n",
        "for a1 in set2:\n",
        "  print(a1)"
      ],
      "metadata": {
        "colab": {
          "base_uri": "https://localhost:8080/"
        },
        "id": "nfzXEO3XpWgF",
        "outputId": "78f556ca-b95d-4696-dd31-73d61638bb41"
      },
      "execution_count": null,
      "outputs": [
        {
          "output_type": "stream",
          "name": "stdout",
          "text": [
            "mustang\n"
          ]
        }
      ]
    },
    {
      "cell_type": "code",
      "source": [
        "# dictionaries"
      ],
      "metadata": {
        "id": "nOreTbiQp4za"
      },
      "execution_count": null,
      "outputs": []
    },
    {
      "cell_type": "code",
      "source": [
        "dict1 = {\"game\":\"football\",\"player\":\"ronaldo\",}\n",
        "for a3 in dict1.values():\n",
        "  print(a3)"
      ],
      "metadata": {
        "colab": {
          "base_uri": "https://localhost:8080/"
        },
        "id": "UBaQCbnpp_Nz",
        "outputId": "edd9aea8-037d-4a3a-d60d-b29ad5130824"
      },
      "execution_count": null,
      "outputs": [
        {
          "output_type": "stream",
          "name": "stdout",
          "text": [
            "football\n",
            "ronaldo\n"
          ]
        }
      ]
    },
    {
      "cell_type": "code",
      "source": [
        "dict2 = {\"car\":\"dodge\"}\n",
        "for a4 in dict2.values():\n",
        "  print(a4)"
      ],
      "metadata": {
        "colab": {
          "base_uri": "https://localhost:8080/"
        },
        "id": "5gNLibE2qX-X",
        "outputId": "cc03d1e3-d2ce-4e06-a6bc-e20b12ed4dec"
      },
      "execution_count": null,
      "outputs": [
        {
          "output_type": "stream",
          "name": "stdout",
          "text": [
            "dodge\n"
          ]
        }
      ]
    },
    {
      "cell_type": "code",
      "source": [
        ""
      ],
      "metadata": {
        "id": "BBM8tp6_q_PL"
      },
      "execution_count": null,
      "outputs": []
    }
  ],
  "metadata": {
    "colab": {
      "name": "Task 9.10 ipynb",
      "provenance": []
    },
    "kernelspec": {
      "display_name": "Python 3",
      "name": "python3"
    },
    "language_info": {
      "name": "python"
    }
  },
  "nbformat": 4,
  "nbformat_minor": 0
}